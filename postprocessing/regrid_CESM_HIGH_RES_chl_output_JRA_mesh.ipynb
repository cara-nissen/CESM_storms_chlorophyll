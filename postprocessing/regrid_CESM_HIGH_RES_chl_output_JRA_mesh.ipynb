{
 "cells": [
  {
   "cell_type": "markdown",
   "id": "8c86bfa8-fcf3-4f9c-88bd-0742e848285e",
   "metadata": {},
   "source": [
    "# Regrid Kristen's CESM chlorophyll output for use by TE (regrid to JRA mesh)\n",
    "# This was run on NCAR's derecho where all the model output is stored."
   ]
  },
  {
   "cell_type": "code",
   "execution_count": 1,
   "id": "da87a932-465e-49b7-a24c-744c245a66f7",
   "metadata": {},
   "outputs": [],
   "source": [
    "import xarray as xr\n",
    "import numpy as np\n",
    "import matplotlib.pyplot as plt\n",
    "import cartopy.crs as ccrs\n",
    "import xesmf as xesmf\n",
    "import pandas as pd\n",
    "from netCDF4 import Dataset, MFDataset\n",
    "import os\n",
    "import glob"
   ]
  },
  {
   "cell_type": "code",
   "execution_count": 2,
   "id": "0f782e44-6f14-44f1-87cd-06accac928aa",
   "metadata": {},
   "outputs": [],
   "source": [
    "#---\n",
    "# pick a random JRA file to get lat/lon info\n",
    "#---\n",
    "\n",
    "lr_grid = xr.open_dataset('/glade/p/cesmdata/cseg/inputdata/ocn/jra55/v1.5_noleap/JRA.v1.5.v_10.TL319.2021.220505.nc',\\\n",
    "                          decode_times=False)['v_10'].isel(time=0)\n",
    "lr_grid = lr_grid.drop_vars('time')\n",
    "lon_jra = lr_grid['longitude'].values\n",
    "lat_jra = lr_grid['latitude'].values\n",
    "#lr_grid"
   ]
  },
  {
   "cell_type": "code",
   "execution_count": 3,
   "id": "d5ab95b5-a99e-4296-bd07-6ba1a91244a6",
   "metadata": {},
   "outputs": [],
   "source": [
    "#---\n",
    "# load Kristen's data\n",
    "#---\n",
    "\n",
    "path1 = '/glade/campaign/cgd/oce/projects/FOSI_BGC/HR/g.e22.TL319_t13.G1850ECOIAF_JRA_HR.4p2z.001/ocn/proc/tseries/day_1/'\n",
    "file_chl = 'g.e22.TL319_t13.G1850ECOIAF_JRA_HR.4p2z.001.pop.h.nday1.spChl_SURF.19580101-19590101.nc'\n",
    "\n",
    "var = 'spChl_SURF'\n",
    "ff = xr.open_dataset(path1+file_chl)[var]#.isel(z_t=0)\n",
    "ff = ff.rename({'TLONG': 'longitude','TLAT': 'latitude'})\n",
    "ff = ff.drop_vars('ULONG')\n",
    "ff = ff.drop_vars('ULAT')\n",
    "ff = ff.drop_vars('time')\n",
    "#ff\n"
   ]
  },
  {
   "cell_type": "code",
   "execution_count": 4,
   "id": "2bb64247-99d9-448c-b011-a3978934bda5",
   "metadata": {},
   "outputs": [],
   "source": [
    "#regridder_jra = xesmf.Regridder(ff, lr_grid, 'bilinear') \n",
    "#ds_rg = regridder_jra(ff)\n",
    "#ds_rg.to_netcdf('/glade/work/cnissen/CESM_chl_regridded/test.nc')\n",
    "#ds_rg\n",
    "#data_to_save = np.copy(ds_rg.values)\n",
    "#print(data_to_save.shape)"
   ]
  },
  {
   "cell_type": "code",
   "execution_count": 6,
   "id": "375611ec-3011-4f73-9e63-f65ab2609834",
   "metadata": {},
   "outputs": [
    {
     "name": "stdout",
     "output_type": "stream",
     "text": [
      "2018\n"
     ]
    }
   ],
   "source": [
    "year_list = np.arange(1978,2018+1,1)\n",
    "print(year_list[40])"
   ]
  },
  {
   "cell_type": "code",
   "execution_count": 7,
   "id": "34a968fa-660f-4c65-b98f-e07cf1b6d905",
   "metadata": {},
   "outputs": [
    {
     "name": "stdout",
     "output_type": "stream",
     "text": [
      "Load year 2018\n",
      "PFT1...\n",
      "PFT2...\n",
      "PFT3...\n",
      "PFT4...\n",
      "Create file /glade/work/cnissen/CESM_HIGH_RES_chl_regridded/totChl_hr_JRA_grid_2018-01-01.nc\n",
      "Succesfully saved year 2018\n",
      "done\n"
     ]
    }
   ],
   "source": [
    "#-----\n",
    "# loop over all years and save as netcdf file \n",
    "#-----\n",
    "\n",
    "savepath = '/glade/work/cnissen/CESM_HIGH_RES_chl_regridded/'\n",
    "save_netcdf = True\n",
    "\n",
    "path1 = '/glade/campaign/cgd/oce/projects/FOSI_BGC/HR/g.e22.TL319_t13.G1850ECOIAF_JRA_HR.4p2z.001/ocn/proc/tseries/day_1/'\n",
    "var1  = 'spChl_SURF'\n",
    "var2  = 'diatChl_SURF'\n",
    "var3  = 'coccoChl_SURF'\n",
    "var4  = 'diazChl_SURF'\n",
    "\n",
    "var   = 'totChl'\n",
    "var_description = 'surface chlorophyll in mg m-3'\n",
    "fv = -999\n",
    "\n",
    "year_list = np.arange(1978,2018+1,1)\n",
    "\n",
    "for yy in range(40,len(year_list)):\n",
    "    print('Load year',year_list[yy])\n",
    "    \n",
    "    # PFT1\n",
    "    print('PFT1...')\n",
    "    # in the folder, find the file that has \"var1.year_list[yy]\" in its name\n",
    "    file_chl = glob.glob(path1+'*'+var1+'.'+str(year_list[yy])+'*')[0]\n",
    "    ff = xr.open_dataset(file_chl)[var1]#.isel(z_t=0)\n",
    "    ff = ff.rename({'TLONG': 'longitude','TLAT': 'latitude'})\n",
    "    ff = ff.drop_vars('ULONG')\n",
    "    ff = ff.drop_vars('ULAT')\n",
    "    ff = ff.drop_vars('time')\n",
    "    # create mapping file\n",
    "    regridder_jra = xesmf.Regridder(ff, lr_grid, 'bilinear') \n",
    "    # regrid field\n",
    "    ds_rg = regridder_jra(ff)\n",
    "    # create numpy array\n",
    "    data_to_save1 = np.copy(ds_rg.values)\n",
    "    # close file\n",
    "    ff.close()\n",
    "\n",
    "    # PFT2\n",
    "    print('PFT2...')\n",
    "    # in the folder, find the file that has \"var1.year_list[yy]\" in its name\n",
    "    file_chl = glob.glob(path1+'*'+var2+'.'+str(year_list[yy])+'*')[0]\n",
    "    ff = xr.open_dataset(file_chl)[var2]#.isel(z_t=0)\n",
    "    ff = ff.rename({'TLONG': 'longitude','TLAT': 'latitude'})\n",
    "    ff = ff.drop_vars('ULONG')\n",
    "    ff = ff.drop_vars('ULAT')\n",
    "    ff = ff.drop_vars('time')\n",
    "    # create mapping file\n",
    "    regridder_jra = xesmf.Regridder(ff, lr_grid, 'bilinear') \n",
    "    # regrid field\n",
    "    ds_rg = regridder_jra(ff)\n",
    "    # create numpy array\n",
    "    data_to_save2 = np.copy(ds_rg.values)\n",
    "    # close file\n",
    "    ff.close()\n",
    "\n",
    "    # PFT3\n",
    "    print('PFT3...')\n",
    "    # in the folder, find the file that has \"var1.year_list[yy]\" in its name\n",
    "    file_chl = glob.glob(path1+'*'+var3+'.'+str(year_list[yy])+'*')[0]\n",
    "    ff = xr.open_dataset(file_chl)[var3]#.isel(z_t=0)\n",
    "    ff = ff.rename({'TLONG': 'longitude','TLAT': 'latitude'})\n",
    "    ff = ff.drop_vars('ULONG')\n",
    "    ff = ff.drop_vars('ULAT')\n",
    "    ff = ff.drop_vars('time')\n",
    "    # create mapping file\n",
    "    regridder_jra = xesmf.Regridder(ff, lr_grid, 'bilinear') \n",
    "    # regrid field\n",
    "    ds_rg = regridder_jra(ff)\n",
    "    # create numpy array\n",
    "    data_to_save3 = np.copy(ds_rg.values)\n",
    "    # close file\n",
    "    ff.close()\n",
    "\n",
    "    # PFT4\n",
    "    print('PFT4...')\n",
    "    # in the folder, find the file that has \"var1.year_list[yy]\" in its name\n",
    "    file_chl = glob.glob(path1+'*'+var4+'.'+str(year_list[yy])+'*')[0]\n",
    "    ff = xr.open_dataset(file_chl)[var4]#.isel(z_t=0)\n",
    "    ff = ff.rename({'TLONG': 'longitude','TLAT': 'latitude'})\n",
    "    ff = ff.drop_vars('ULONG')\n",
    "    ff = ff.drop_vars('ULAT')\n",
    "    ff = ff.drop_vars('time')\n",
    "    # create mapping file\n",
    "    regridder_jra = xesmf.Regridder(ff, lr_grid, 'bilinear') \n",
    "    # regrid field\n",
    "    ds_rg = regridder_jra(ff)\n",
    "    # create numpy array\n",
    "    data_to_save4 = np.copy(ds_rg.values)\n",
    "    # close file\n",
    "    ff.close()\n",
    "\n",
    "    data_to_save = data_to_save1+data_to_save2+data_to_save3+data_to_save4\n",
    "    del data_to_save1,data_to_save2,data_to_save3,data_to_save4\n",
    "\n",
    "    if save_netcdf:\n",
    "        netcdf_name = var+'_hr_JRA_grid_'+str(year_list[yy])+'-01-01.nc'\n",
    "        if not os.path.exists(savepath+netcdf_name):\n",
    "            print('Create file '+savepath+netcdf_name)\n",
    "            w_nc_fid = Dataset(savepath+netcdf_name, 'w', format='NETCDF4_CLASSIC')\n",
    "            w_nc_fid.contact = 'Cara Nissen, cara.nissen@colorado.edu'\n",
    "            w_nc_fid.source_file = path1+file_chl\n",
    "            w_nc_fid.script      = '/glade/u/home/cnissen/scripts/regrid_CESM_HIGH_RES_chl_output_JRA_mesh.ipynb'\n",
    "            # create dimension & variable\n",
    "            w_nc_fid.createDimension('time', data_to_save.shape[0]) \n",
    "            w_nc_fid.createDimension('latitude', data_to_save.shape[1]) \n",
    "            w_nc_fid.createDimension('longitude', data_to_save.shape[2]) \n",
    "            w_nc_var1 = w_nc_fid.createVariable(var, 'f4',('time','latitude','longitude'),fill_value=fv)\n",
    "            w_nc_var1.description = var_description\n",
    "            w_nc_var1.units = 'deg C'\n",
    "            w_nc_var1 = w_nc_fid.createVariable('latitude', 'f4',('latitude'),fill_value=fv)\n",
    "            w_nc_var1.description = 'Latitude'\n",
    "            w_nc_var1.units = 'deg N'\n",
    "            w_nc_var1 = w_nc_fid.createVariable('longitude', 'f4',('longitude'),fill_value=fv)\n",
    "            w_nc_var1.description = 'Longitude (0:360)'\n",
    "            w_nc_var1.units = 'deg E'\n",
    "            w_nc_fid.close()\n",
    "                     \n",
    "        data_to_save[np.isnan(data_to_save)] = fv\n",
    "        data_to_save[data_to_save==0] = fv\n",
    "\n",
    "        # get rid of white line!\n",
    "        data_to_save[:,:,568] = data_to_save[:,:,567]\n",
    "        data_to_save[:,:,569] = data_to_save[:,:,570]\n",
    "\n",
    "        w_nc_fid = Dataset(savepath+netcdf_name, 'r+', format='NETCDF4_CLASSIC') \n",
    "        w_nc_fid.variables[var][:,:] = data_to_save\n",
    "        w_nc_fid.variables['latitude'][:] = lat_jra\n",
    "        w_nc_fid.variables['longitude'][:] = lon_jra\n",
    "        w_nc_fid.close()  \n",
    "\n",
    "        print('Succesfully saved year '+str(year_list[yy]))\n",
    "                \n",
    "print('done')\n"
   ]
  },
  {
   "cell_type": "code",
   "execution_count": null,
   "id": "6c917369-8e9d-4bf4-9ed7-18997541524b",
   "metadata": {},
   "outputs": [],
   "source": []
  },
  {
   "cell_type": "code",
   "execution_count": null,
   "id": "2839e027-c2a5-472a-8d37-9c9b272970fa",
   "metadata": {},
   "outputs": [],
   "source": []
  },
  {
   "cell_type": "code",
   "execution_count": null,
   "id": "ca67753f-5814-48ae-8bbc-008f738a6070",
   "metadata": {},
   "outputs": [],
   "source": [
    "#ds_rg.isel(time=0).plot()"
   ]
  },
  {
   "cell_type": "code",
   "execution_count": null,
   "id": "29d80014-2fcf-452e-bd7b-3d5ab805e334",
   "metadata": {},
   "outputs": [],
   "source": [
    "#----\n",
    "# TESTING: get rid of vertical line of missing values!\n",
    "#----\n",
    "\n",
    "testing = False\n",
    "if testing: \n",
    "    path1 = '/glade/work/cnissen/CESM_chl_regridded//'\n",
    "    file_chl = 'Anomalies_totChl_JRA_grid_1958-01-01.nc'\n",
    "    \n",
    "    var  = 'totChl'\n",
    "    ff   = xr.open_dataset(path1+file_chl)#[var]#.isel(z_t=0)\n",
    "    data = ff[var].values \n",
    "    ff.close()\n",
    "    \n",
    "    print(data.shape)\n",
    "    \n",
    "   # data[:,:,568] = data[:,:,567]\n",
    "   # data[:,:,569] = data[:,:,570]\n",
    "    \n",
    "    fig = plt.figure(figsize=(10,5))\n",
    "    plt.pcolor(data[1,:,:],cmap=plt.cm.viridis,vmin=0,vmax=0.4)\n",
    "    plt.colorbar()\n",
    "    plt.show()\n"
   ]
  },
  {
   "cell_type": "code",
   "execution_count": null,
   "id": "d9275c16-b8df-4bff-a4f3-765e71e1cfa9",
   "metadata": {},
   "outputs": [],
   "source": [
    "\n",
    "\n"
   ]
  },
  {
   "cell_type": "code",
   "execution_count": null,
   "id": "33628527-46b4-49dd-9f9c-4c9a3f37cabc",
   "metadata": {},
   "outputs": [],
   "source": []
  },
  {
   "cell_type": "code",
   "execution_count": null,
   "id": "56b9ab96-727e-4542-a25b-0963443c3d94",
   "metadata": {},
   "outputs": [],
   "source": []
  },
  {
   "cell_type": "code",
   "execution_count": null,
   "id": "16d96071-dd44-4bcc-89c4-aecf4080748e",
   "metadata": {},
   "outputs": [],
   "source": []
  },
  {
   "cell_type": "code",
   "execution_count": null,
   "id": "0abded55-9173-4910-8e76-85c9ed4aedb2",
   "metadata": {},
   "outputs": [],
   "source": []
  }
 ],
 "metadata": {
  "kernelspec": {
   "display_name": "Python [conda env:myenv]",
   "language": "python",
   "name": "conda-env-myenv-py"
  },
  "language_info": {
   "codemirror_mode": {
    "name": "ipython",
    "version": 3
   },
   "file_extension": ".py",
   "mimetype": "text/x-python",
   "name": "python",
   "nbconvert_exporter": "python",
   "pygments_lexer": "ipython3",
   "version": "3.9.19"
  }
 },
 "nbformat": 4,
 "nbformat_minor": 5
}
