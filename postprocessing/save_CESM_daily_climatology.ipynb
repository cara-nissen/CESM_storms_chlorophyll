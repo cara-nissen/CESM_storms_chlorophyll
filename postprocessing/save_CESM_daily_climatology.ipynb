{
 "cells": [
  {
   "cell_type": "code",
   "execution_count": 1,
   "id": "ad5fbc2e-f891-4261-9e91-23e0cee673d0",
   "metadata": {},
   "outputs": [],
   "source": [
    "# calculate daily climatology (for use in anomaly calculation)"
   ]
  },
  {
   "cell_type": "code",
   "execution_count": 4,
   "id": "bb7d5f16-a930-4b60-bbf5-45c0cc4c83cd",
   "metadata": {
    "tags": []
   },
   "outputs": [],
   "source": [
    "import os\n",
    "from tqdm import tqdm\n",
    "import xarray as xr\n",
    "import numpy as np\n",
    "import matplotlib.pyplot as plt\n",
    "import pandas as pd\n",
    "from netCDF4 import Dataset, MFDataset\n",
    "import numba as nb\n",
    "import time as timing\n",
    "from numba import njit \n",
    "from math import sin, cos, sqrt, atan2, radians\n",
    "from geopy.distance import distance\n",
    "import seawater as sw"
   ]
  },
  {
   "cell_type": "code",
   "execution_count": 6,
   "id": "e38d11d9-d2f8-4497-836c-c79f37703f17",
   "metadata": {
    "tags": []
   },
   "outputs": [
    {
     "name": "stdout",
     "output_type": "stream",
     "text": [
      "MLD_hr HMXL_2 ...\n"
     ]
    },
    {
     "name": "stderr",
     "output_type": "stream",
     "text": [
      "  0%|          | 0/22 [00:00<?, ?it/s]"
     ]
    },
    {
     "name": "stdout",
     "output_type": "stream",
     "text": [
      "Min/Max lon: 0.0 359.4375\n"
     ]
    },
    {
     "name": "stderr",
     "output_type": "stream",
     "text": [
      "100%|██████████| 22/22 [00:21<00:00,  1.02it/s]\n"
     ]
    },
    {
     "name": "stdout",
     "output_type": "stream",
     "text": [
      "16500.0 2552139.869140625\n",
      "750.0 116006.35768821022\n",
      "Create file /global/cfs/cdirs/m4003/cnissen/CESM_HIGH_RES_MLD_regridded/Climatology_MLD_hr_JRA_grid_1997_2018.nc\n",
      "done\n"
     ]
    }
   ],
   "source": [
    "#---\n",
    "# get avg field over all years and save as netcdf\n",
    "#---\n",
    "\n",
    "vari = 'MLD_hr'\n",
    "year_list = np.arange(1997,2018+1)\n",
    "save_netcdf =True\n",
    "\n",
    "#------ NO CHANGES NEEDED BELOW THIS LINE\n",
    "\n",
    "if vari=='diat_specific_growth_rate_surf':\n",
    "    vari2 = 'mu_diat'\n",
    "elif vari=='sp_specific_growth_rate_surf':\n",
    "    vari2 = 'mu_sp'\n",
    "elif vari=='totChl_hr':\n",
    "    vari2 = 'totChl'\n",
    "elif vari=='totChl_emulator':\n",
    "    vari2 = 'totChl_masked'\n",
    "elif vari=='MLD_hr':\n",
    "    vari2 = 'HMXL_2'\n",
    "else:\n",
    "    vari2 = vari\n",
    "print(vari,vari2,'...')\n",
    "\n",
    "if vari in ['totChl']:\n",
    "    path1   = '/global/cfs/cdirs/m4003/cnissen/CESM_chl/'\n",
    "    unit    = 'mg chl m-3' \n",
    "elif vari in ['totChl_hr']:\n",
    "    path1   = '/global/cfs/cdirs/m4003/cnissen/CESM_HIGH_RES_chl_regridded/'\n",
    "    unit    = 'mg chl m-3' \n",
    "elif vari in ['totChl_emulator']:\n",
    "    path1   = '/global/cfs/cdirs/m4003/cnissen/CESM_totChl_emulator_regridded/'\n",
    "    unit    = 'mg chl m-3' \n",
    "elif vari in ['FG_CO2_2']:\n",
    "    path1   = '/global/cfs/cdirs/m4003/cnissen/CESM_fco2/'\n",
    "    unit    = 'mmol m-3 cm s-1' \n",
    "elif vari in ['ECOSYS_IFRAC_2']:\n",
    "    path1   = '/global/cfs/cdirs/m4003/cnissen/CESM_sic/'\n",
    "    unit    = 'n.d.' \n",
    "elif vari in ['MLD']:\n",
    "    path1   = '/global/cfs/cdirs/m4003/cnissen/CESM_MLD_regridded/'\n",
    "    unit    = 'cm' \n",
    "elif vari in ['MLD_hr']:\n",
    "    path1   = '/global/cfs/cdirs/m4003/cnissen/CESM_HIGH_RES_MLD_regridded/'\n",
    "    unit    = 'cm' \n",
    "elif vari in ['SST']:\n",
    "    path1   = '/global/cfs/cdirs/m4003/cnissen/CESM_SST_regridded/'\n",
    "    unit    = 'deg C' \n",
    "elif vari in ['wind_speed']:\n",
    "    path1   = '/global/cfs/cdirs/m4003/cnissen/JRA_wind_speed/'\n",
    "    unit    = 'm s-1' \n",
    "elif vari in ['slp']:\n",
    "    path1   = '/global/cfs/cdirs/m4003/cnissen/JRA_slp/'\n",
    "    unit    = 'Pa' \n",
    "elif vari in ['photoC_total_surf']:\n",
    "    path1   = '/global/cfs/cdirs/m4003/cnissen/CESM_total_srf_photoC_regridded/'\n",
    "    unit    = 'mmol m-3 cm s-1' \n",
    "elif vari in ['photoC_zint']:\n",
    "    path1   = '/global/cfs/cdirs/m4003/cnissen/CESM_total_int_photoC_regridded/'\n",
    "    unit    = 'mmol m-3 cm s-1' \n",
    "elif vari in ['phytoC_zint_100m']:\n",
    "    path1   = '/global/cfs/cdirs/m4003/cnissen/CESM_total_int_phyto_C_biomass_regridded/'\n",
    "    unit    = 'mmol m-2'    \n",
    "elif vari in ['cloudfrac_isccp']:\n",
    "    path1   = '/global/cfs/cdirs/m4003/cnissen/CESM_cloudfrac_isccp_regridded/'\n",
    "    unit    = 'n.d.' \n",
    "elif vari in ['PAR_incoming']:\n",
    "    path1   = '/global/cfs/cdirs/m4003/cnissen/JRA_PAR_incoming/'\n",
    "    unit    = 'W m-2' \n",
    "elif vari in ['diat_specific_growth_rate_surf']:\n",
    "    path1   = '/global/cfs/cdirs/m4003/cnissen/CESM_diat_specific_growth_rate_regridded/'\n",
    "    unit    = 'd-1' \n",
    "elif vari in ['sp_specific_growth_rate_surf']:\n",
    "    path1   = '/global/cfs/cdirs/m4003/cnissen/CESM_sp_specific_growth_rate_regridded/'\n",
    "    unit    = 'd-1' \n",
    "elif vari in ['diat_light_lim_surf']:\n",
    "    path1   = '/global/cfs/cdirs/m4003/cnissen/CESM_diat_light_lim_surf_regridded/'\n",
    "    unit    = 'n.d.' \n",
    "elif vari in ['sp_light_lim_surf']:\n",
    "    path1   = '/global/cfs/cdirs/m4003/cnissen/CESM_sp_light_lim_surf_regridded/'\n",
    "    unit    = 'n.d.' \n",
    "elif vari in ['diat_Fe_lim_surf']:\n",
    "    path1   = '/global/cfs/cdirs/m4003/cnissen/CESM_diat_Fe_lim_surf_regridded/'\n",
    "    unit    = 'n.d.' \n",
    "elif vari in ['sp_Fe_lim_surf']:\n",
    "    path1   = '/global/cfs/cdirs/m4003/cnissen/CESM_sp_Fe_lim_surf_regridded/'\n",
    "    unit    = 'n.d.' \n",
    "elif vari in ['diat_SiO3_lim_surf']:\n",
    "    path1   = '/global/cfs/cdirs/m4003/cnissen/CESM_diat_SiO3_lim_surf_regridded/'\n",
    "    unit    = 'n.d.' \n",
    "elif vari in ['diatChl_SURF']:\n",
    "    path1   = '/global/cfs/cdirs/m4003/cnissen/CESM_diatChl_SURF_regridded/'\n",
    "    unit    = 'mg chl m-3' \n",
    "elif vari in ['spChl_SURF']:\n",
    "    path1   = '/global/cfs/cdirs/m4003/cnissen/CESM_spChl_SURF_regridded/'\n",
    "    unit    = 'mg chl m-3' \n",
    "\n",
    "# calculate climatology\n",
    "if vari not in ['totChl_emulator']:\n",
    "    data_avg = np.zeros([365, 320, 640]) # days x lat x lon\n",
    "else: # emulator field needs to be treated differently: as location of NaNs is different for each year, the fields cannot simply be added up\n",
    "    data_avg = np.zeros([len(year_list),365, 320, 640]) # days x lat x lon\n",
    "for yy in tqdm(range(0,len(year_list))):\n",
    "    file1 = vari+'_JRA_grid_'+str(year_list[yy])+'-01-01.nc'\n",
    "    ff = xr.open_dataset(path1+file1)\n",
    "    data1 = np.squeeze(ff[vari2]).values\n",
    "    if yy==0:\n",
    "        lat = np.squeeze(ff['latitude']).values\n",
    "        lon = np.squeeze(ff['longitude']).values\n",
    "        print('Min/Max lon:',np.nanmin(lon),np.nanmax(lon))\n",
    "    ff.close()\n",
    "    if vari not in ['totChl_emulator']:\n",
    "        data_avg = data_avg+data1\n",
    "    else: \n",
    "        data_avg[yy,:,:,:] = data1\n",
    "    del data1\n",
    "    \n",
    "# normalize by number of years\n",
    "print(np.nanmin(data_avg),np.nanmax(data_avg))\n",
    "if vari not in ['totChl_emulator']:\n",
    "    data_avg = np.divide(data_avg,len(year_list))\n",
    "else: \n",
    "    data_avg = np.nanmean(data_avg,axis=0) # emulator field needs to be treated differently: as location of NaNs is different for each year, the fields cannot simply be added up\n",
    "print(np.nanmin(data_avg),np.nanmax(data_avg))\n",
    "\n",
    "# store in new file\n",
    "if save_netcdf:\n",
    "    savepath = path1\n",
    "    fv = -999\n",
    "    \n",
    "    netcdf_name = 'Climatology_'+vari+'_JRA_grid_'+str(year_list[0])+'_'+str(year_list[-1])+'.nc'\n",
    "    if not os.path.exists(savepath+netcdf_name):\n",
    "        print('Create file '+savepath+netcdf_name)\n",
    "        w_nc_fid = Dataset(savepath+netcdf_name, 'w', format='NETCDF4_CLASSIC')\n",
    "        w_nc_fid.contact = 'Cara Nissen, cara.nissen@colorado.edu'\n",
    "        w_nc_fid.source_file = path1+file1\n",
    "        w_nc_fid.script    = '/global/homes/c/cnissen/scripts/save_CESM_daily_climatology.ipynb'\n",
    "        # create dimension & variable\n",
    "        w_nc_fid.createDimension('lon', len(lon)) \n",
    "        w_nc_fid.createDimension('lat', len(lat)) \n",
    "        w_nc_fid.createDimension('Time', data_avg.shape[0]) \n",
    "        w_nc_var1 = w_nc_fid.createVariable(vari, 'f4',('Time','lat','lon'),fill_value=fv)\n",
    "        w_nc_var1.description = vari2+' climatology (avg from '+str(year_list[0])+'_'+str(year_list[-1])+')'\n",
    "        w_nc_var1.unit = unit\n",
    "        w_nc_var1 = w_nc_fid.createVariable('lat', 'f4',('lat'),fill_value=fv)\n",
    "        w_nc_var1.description = 'Latitude'\n",
    "        w_nc_var1.unit = 'deg N'\n",
    "        w_nc_var1 = w_nc_fid.createVariable('lon', 'f4',('lon'),fill_value=fv)\n",
    "        w_nc_var1.description = 'Longitude (0:360)'\n",
    "        w_nc_var1.unit = 'deg E'\n",
    "        w_nc_fid.close()\n",
    "\n",
    "        data_avg[np.isnan(data_avg)] = fv\n",
    "\n",
    "        w_nc_fid = Dataset(savepath+netcdf_name, 'r+', format='NETCDF4_CLASSIC') \n",
    "        w_nc_fid.variables[vari][:]  = data_avg\n",
    "        w_nc_fid.variables['lat'][:] = lat\n",
    "        w_nc_fid.variables['lon'][:] = lon\n",
    "        w_nc_fid.close() \n",
    "        \n",
    "print('done')                \n",
    "    "
   ]
  },
  {
   "cell_type": "code",
   "execution_count": null,
   "id": "85099617-c0a0-4292-9b9a-f3335f060414",
   "metadata": {
    "tags": []
   },
   "outputs": [],
   "source": []
  },
  {
   "cell_type": "code",
   "execution_count": null,
   "id": "9d45da15-3993-485d-ad5a-4bdb2caac80d",
   "metadata": {},
   "outputs": [],
   "source": []
  },
  {
   "cell_type": "code",
   "execution_count": null,
   "id": "6429d4d3-06fb-43a2-8a5c-d6d3915de210",
   "metadata": {},
   "outputs": [],
   "source": []
  },
  {
   "cell_type": "code",
   "execution_count": null,
   "id": "f79963fd-7397-4168-91c1-7803bc083a5b",
   "metadata": {},
   "outputs": [],
   "source": []
  }
 ],
 "metadata": {
  "kernelspec": {
   "display_name": "myenv-jupyter",
   "language": "python",
   "name": "myenv-jupyter"
  },
  "language_info": {
   "codemirror_mode": {
    "name": "ipython",
    "version": 3
   },
   "file_extension": ".py",
   "mimetype": "text/x-python",
   "name": "python",
   "nbconvert_exporter": "python",
   "pygments_lexer": "ipython3",
   "version": "3.9.12"
  }
 },
 "nbformat": 4,
 "nbformat_minor": 5
}
